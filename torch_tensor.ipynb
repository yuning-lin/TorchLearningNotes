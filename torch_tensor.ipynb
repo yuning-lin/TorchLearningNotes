{
 "cells": [
  {
   "cell_type": "code",
   "execution_count": 50,
   "id": "30b82c2d",
   "metadata": {},
   "outputs": [],
   "source": [
    "import torch"
   ]
  },
  {
   "cell_type": "code",
   "execution_count": 5,
   "id": "e0c9ca88",
   "metadata": {},
   "outputs": [
    {
     "name": "stdout",
     "output_type": "stream",
     "text": [
      "tensor([-6.6382e+37,  4.5914e-41,  0.0000e+00])\n",
      "tensor([[0., 0.],\n",
      "        [0., 0.],\n",
      "        [0., 0.]])\n"
     ]
    }
   ],
   "source": [
    "#### 不同維度\n",
    "print(torch.empty(3))\n",
    "print(torch.empty(3,2))"
   ]
  },
  {
   "cell_type": "code",
   "execution_count": 11,
   "id": "c81a0941",
   "metadata": {},
   "outputs": [
    {
     "name": "stdout",
     "output_type": "stream",
     "text": [
      "tensor([0.9063, 0.9143])\n",
      "tensor([0., 0.])\n",
      "tensor([1., 1.])\n",
      "tensor([[1., 1.],\n",
      "        [1., 1.]], dtype=torch.float16)\n"
     ]
    }
   ],
   "source": [
    "#### 類似 numpy 的函數\n",
    "print(torch.rand(2))\n",
    "print(torch.zeros(2))\n",
    "print(torch.ones(2))\n",
    "print(torch.ones(2,2,dtype=torch.float16))"
   ]
  },
  {
   "cell_type": "code",
   "execution_count": 15,
   "id": "8a231998",
   "metadata": {},
   "outputs": [
    {
     "name": "stdout",
     "output_type": "stream",
     "text": [
      "<class 'torch.Tensor'>\n",
      "torch.int32\n",
      "torch.Size([2, 3])\n"
     ]
    }
   ],
   "source": [
    "#### 特性\n",
    "x = torch.ones(2,3,dtype=torch.int)\n",
    "print(type(x))\n",
    "print(x.dtype)\n",
    "print(x.size())"
   ]
  },
  {
   "cell_type": "code",
   "execution_count": 16,
   "id": "cbc0217f",
   "metadata": {},
   "outputs": [
    {
     "name": "stdout",
     "output_type": "stream",
     "text": [
      "tensor([2.5000, 0.1000])\n"
     ]
    }
   ],
   "source": [
    "#### 創建張量\n",
    "x = torch.tensor([2.5,0.1])\n",
    "print(x)"
   ]
  },
  {
   "cell_type": "code",
   "execution_count": 31,
   "id": "e145c7fa",
   "metadata": {},
   "outputs": [
    {
     "name": "stdout",
     "output_type": "stream",
     "text": [
      "tensor([[0.7932, 1.8958],\n",
      "        [1.2445, 1.7332],\n",
      "        [1.0849, 0.4181]])\n",
      "tensor([[-0.0271,  0.0577],\n",
      "        [-0.0457,  0.2358],\n",
      "        [-0.6951, -0.0591]])\n",
      "tensor([[0.9340, 1.0628],\n",
      "        [0.9292, 1.3149],\n",
      "        [0.2190, 0.7525]])\n",
      "tensor([[0.1571, 0.8977],\n",
      "        [0.3867, 0.7371],\n",
      "        [0.1735, 0.0428]])\n"
     ]
    }
   ],
   "source": [
    "#### 張量加減乘除\n",
    "x = torch.rand(3,2)\n",
    "y = torch.rand(3,2)\n",
    "print(x+y)\n",
    "print(x-y)\n",
    "print(x/y)\n",
    "print(x*y)"
   ]
  },
  {
   "cell_type": "code",
   "execution_count": 20,
   "id": "ade539a3",
   "metadata": {},
   "outputs": [
    {
     "name": "stdout",
     "output_type": "stream",
     "text": [
      "tensor([[0.6133, 0.6513],\n",
      "        [0.6618, 0.2460],\n",
      "        [0.3161, 0.9323]])\n",
      "tensor([0.6618, 0.2460])\n",
      "tensor(0.9323)\n",
      "0.9322500824928284\n"
     ]
    }
   ],
   "source": [
    "#### 張量取值\n",
    "print(x)\n",
    "print(x[1,:])\n",
    "print(x[2,1])\n",
    "print(x[2,1].item())"
   ]
  },
  {
   "cell_type": "code",
   "execution_count": 23,
   "id": "b7ccf84f",
   "metadata": {},
   "outputs": [
    {
     "name": "stdout",
     "output_type": "stream",
     "text": [
      "tensor([0.6133, 0.6513, 0.6618, 0.2460, 0.3161, 0.9323])\n",
      "tensor([[0.6133, 0.6513, 0.6618],\n",
      "        [0.2460, 0.3161, 0.9323]])\n",
      "tensor([[0.6133, 0.6513, 0.6618],\n",
      "        [0.2460, 0.3161, 0.9323]])\n"
     ]
    }
   ],
   "source": [
    "#### reshape\n",
    "print(x.view(6))\n",
    "print(x.view(2,3))\n",
    "print(x.view(-1,3))"
   ]
  },
  {
   "cell_type": "code",
   "execution_count": 27,
   "id": "d9d0c896",
   "metadata": {},
   "outputs": [
    {
     "name": "stdout",
     "output_type": "stream",
     "text": [
      "情境一：\n",
      "tensor([1., 1., 1., 1., 1.])\n",
      "[1. 1. 1. 1. 1.]\n",
      "tensor([2., 2., 2., 2., 2.])\n",
      "[2. 2. 2. 2. 2.]\n",
      "情境二：\n",
      "[1. 1. 1. 1. 1.]\n",
      "tensor([1., 1., 1., 1., 1.], dtype=torch.float64)\n",
      "[2. 2. 2. 2. 2.]\n",
      "tensor([2., 2., 2., 2., 2.], dtype=torch.float64)\n"
     ]
    }
   ],
   "source": [
    "'''\n",
    "numpy array 轉換\n",
    "注意：若在 CPU 的環境，是共享記憶體的，所以改變了某變數，可能改變了另一變數如下\n",
    "'''\n",
    "#### 情境一：\n",
    "print('情境一：')\n",
    "a = torch.ones(5)\n",
    "print(a)\n",
    "b = a.numpy()\n",
    "print(b)\n",
    "\n",
    "a.add_(1)\n",
    "print(a)\n",
    "print(b)\n",
    "\n",
    "#### 情境二：\n",
    "print('情境二：')\n",
    "import numpy as np\n",
    "a = np.ones(5)\n",
    "print(a)\n",
    "b = torch.from_numpy(a)\n",
    "print(b)\n",
    "\n",
    "a += 1\n",
    "print(a)\n",
    "print(b)"
   ]
  },
  {
   "cell_type": "code",
   "execution_count": 28,
   "id": "e3fcdffa",
   "metadata": {},
   "outputs": [],
   "source": [
    "'''\n",
    "若想在 GPU 上做運算\n",
    "或是換回在 CPU 上做運算\n",
    "BTW numpy 僅能在 CPU 運算\n",
    "'''\n",
    "if torch.cuda.is_available():\n",
    "    device = torch.device('cuda')\n",
    "    # 法一\n",
    "    x = torch.ones(5, device=device)\n",
    "    # 法二\n",
    "    y = torch.ones(5)\n",
    "    y = y.to(device)\n",
    "    z = x + y\n",
    "    z = z.to('cpu')"
   ]
  },
  {
   "cell_type": "code",
   "execution_count": 41,
   "id": "5609e5a9",
   "metadata": {},
   "outputs": [
    {
     "name": "stdout",
     "output_type": "stream",
     "text": [
      "tensor([ 0.6567,  1.2497, -0.5861,  0.2293, -0.0113], requires_grad=True)\n",
      "None\n",
      "tensor([2.6567, 3.2497, 1.4139, 2.2293, 1.9887], grad_fn=<AddBackward0>)\n",
      "tensor([14.1164, 21.1211,  3.9980,  9.9392,  7.9101], grad_fn=<MulBackward0>)\n",
      "tensor(11.4170, grad_fn=<MeanBackward0>)\n",
      "tensor([2.1254, 2.5998, 1.1311, 1.7834, 1.5910])\n"
     ]
    }
   ],
   "source": [
    "'''\n",
    "宣告張量未來要算梯度\n",
    "'''\n",
    "x = torch.randn(5, requires_grad=True)\n",
    "print(x)\n",
    "print(x.grad)\n",
    "y = x+2\n",
    "print(y)\n",
    "z = y*y*2\n",
    "print(z)\n",
    "z = z.mean()\n",
    "print(z)\n",
    "\n",
    "z.backward() #dz/dx\n",
    "print(x.grad)"
   ]
  },
  {
   "cell_type": "code",
   "execution_count": 45,
   "id": "7846f18e",
   "metadata": {},
   "outputs": [
    {
     "name": "stdout",
     "output_type": "stream",
     "text": [
      "tensor([ 0.6567,  1.2497, -0.5861,  0.2293, -0.0113], requires_grad=True)\n",
      "tensor([ 0.6567,  1.2497, -0.5861,  0.2293, -0.0113])\n"
     ]
    }
   ],
   "source": [
    "a = x.detach()\n",
    "print(x)\n",
    "print(a)"
   ]
  },
  {
   "cell_type": "code",
   "execution_count": 49,
   "id": "9d37b199",
   "metadata": {},
   "outputs": [
    {
     "name": "stdout",
     "output_type": "stream",
     "text": [
      "Situation 1:\n",
      "model_output:12.0\n",
      "tensor([3., 3., 3., 3.])\n",
      "model_output:12.0\n",
      "tensor([6., 6., 6., 6.])\n",
      "model_output:12.0\n",
      "tensor([9., 9., 9., 9.])\n",
      "\n",
      "Situation 2:\n",
      "model_output:12.0\n",
      "tensor([3., 3., 3., 3.])\n",
      "model_output:12.0\n",
      "tensor([3., 3., 3., 3.])\n",
      "model_output:12.0\n",
      "tensor([3., 3., 3., 3.])\n"
     ]
    }
   ],
   "source": [
    "'''\n",
    "關於梯度，小範例\n",
    "'''\n",
    "print('會記住之前的梯度:')\n",
    "weights = torch.ones(4, requires_grad=True)\n",
    "for epoch in range(3):\n",
    "    model_output = (weights*3).sum()\n",
    "    print(f'model_output:{model_output}')\n",
    "    model_output.backward()\n",
    "    print(weights.grad)\n",
    "\n",
    "print('','將梯度歸零重新計算:', sep='\\n')\n",
    "weights = torch.ones(4, requires_grad=True)\n",
    "for epoch in range(3):\n",
    "    model_output = (weights*3).sum()\n",
    "    print(f'model_output:{model_output}')\n",
    "    model_output.backward()\n",
    "    print(weights.grad)\n",
    "    weights.grad.zero_()"
   ]
  }
 ],
 "metadata": {
  "kernelspec": {
   "display_name": "py39_torch",
   "language": "python",
   "name": "py39_torch"
  },
  "language_info": {
   "codemirror_mode": {
    "name": "ipython",
    "version": 3
   },
   "file_extension": ".py",
   "mimetype": "text/x-python",
   "name": "python",
   "nbconvert_exporter": "python",
   "pygments_lexer": "ipython3",
   "version": "3.9.2"
  }
 },
 "nbformat": 4,
 "nbformat_minor": 5
}
