{
 "cells": [
  {
   "cell_type": "code",
   "execution_count": 1,
   "id": "3c8b8673",
   "metadata": {},
   "outputs": [],
   "source": [
    "import torch\n",
    "import numpy as np\n",
    "# * 在 PyTorch 世界，所有物件都是張量（tensor）"
   ]
  },
  {
   "cell_type": "markdown",
   "id": "1eb1c350",
   "metadata": {},
   "source": [
    "## Use numpy to display a case"
   ]
  },
  {
   "cell_type": "code",
   "execution_count": 8,
   "id": "ada29c6f",
   "metadata": {},
   "outputs": [],
   "source": [
    "def forward(x):\n",
    "    return w*x\n",
    "\n",
    "def loss(y, y_pred):\n",
    "    return ((y_pred-y)**2).mean()\n",
    "\n",
    "def gradient(x, y, y_pred):\n",
    "    return np.dot(2*x, y_pred-y).mean()"
   ]
  },
  {
   "cell_type": "code",
   "execution_count": 7,
   "id": "76e1fb25",
   "metadata": {},
   "outputs": [],
   "source": [
    "X = np.array([1,2,3,4], dtype=np.float32)\n",
    "Y = np.array([2,4,6,8], dtype=np.float32)\n",
    "w = 0\n",
    "\n",
    "learning_rate = 0.01\n",
    "n_iter = 10"
   ]
  },
  {
   "cell_type": "code",
   "execution_count": 9,
   "id": "db4ce7d4",
   "metadata": {},
   "outputs": [
    {
     "name": "stdout",
     "output_type": "stream",
     "text": [
      "Prediction before training: f(5) = 0.000\n",
      "epoch 1: w = 1.200, loss = 30.00000\n",
      "epoch 2: w = 1.680, loss = 4.80000\n",
      "epoch 3: w = 1.872, loss = 0.76800\n",
      "epoch 4: w = 1.949, loss = 0.12288\n",
      "epoch 5: w = 1.980, loss = 0.01966\n",
      "epoch 6: w = 1.992, loss = 0.00315\n",
      "epoch 7: w = 1.997, loss = 0.00050\n",
      "epoch 8: w = 1.999, loss = 0.00008\n",
      "epoch 9: w = 1.999, loss = 0.00001\n",
      "epoch 10: w = 2.000, loss = 0.00000\n",
      "Prediction after training: f(5) = 9.999\n"
     ]
    }
   ],
   "source": [
    "print(f'Prediction before training: f(5) = {forward(5):.3f}')\n",
    "\n",
    "for epoch in range(n_iter):\n",
    "    Y_pred = forward(X)\n",
    "    l = loss(Y,Y_pred)\n",
    "    dw = gradient(X,Y,Y_pred)\n",
    "    w -= learning_rate*dw\n",
    "    if epoch%1 == 0:\n",
    "        print(f'epoch {epoch+1}: w = {w:.3f}, loss = {l:.5f}')\n",
    "print(f'Prediction after training: f(5) = {forward(5):.3f}')"
   ]
  },
  {
   "cell_type": "markdown",
   "id": "fb01303f",
   "metadata": {},
   "source": [
    "## Use torch to display the same case"
   ]
  },
  {
   "cell_type": "code",
   "execution_count": 16,
   "id": "9fec46ed",
   "metadata": {},
   "outputs": [],
   "source": [
    "X = torch.tensor([1,2,3,4], dtype=torch.float32)\n",
    "Y = torch.tensor([2,4,6,8], dtype=torch.float32)\n",
    "w = torch.tensor(0, dtype=torch.float32, requires_grad=True)\n",
    "\n",
    "learning_rate = 0.01\n",
    "n_iter = 100"
   ]
  },
  {
   "cell_type": "code",
   "execution_count": 17,
   "id": "45b1466a",
   "metadata": {
    "scrolled": true
   },
   "outputs": [
    {
     "name": "stdout",
     "output_type": "stream",
     "text": [
      "Prediction before training: f(5) = 0.000\n",
      "epoch 1: w = 0.300, loss = 30.00000\n",
      "epoch 2: w = 0.555, loss = 21.67500\n",
      "epoch 3: w = 0.772, loss = 15.66019\n",
      "epoch 4: w = 0.956, loss = 11.31449\n",
      "epoch 5: w = 1.113, loss = 8.17472\n",
      "epoch 6: w = 1.246, loss = 5.90623\n",
      "epoch 7: w = 1.359, loss = 4.26725\n",
      "epoch 8: w = 1.455, loss = 3.08309\n",
      "epoch 9: w = 1.537, loss = 2.22753\n",
      "epoch 10: w = 1.606, loss = 1.60939\n",
      "epoch 11: w = 1.665, loss = 1.16279\n",
      "epoch 12: w = 1.716, loss = 0.84011\n",
      "epoch 13: w = 1.758, loss = 0.60698\n",
      "epoch 14: w = 1.794, loss = 0.43854\n",
      "epoch 15: w = 1.825, loss = 0.31685\n",
      "epoch 16: w = 1.851, loss = 0.22892\n",
      "epoch 17: w = 1.874, loss = 0.16540\n",
      "epoch 18: w = 1.893, loss = 0.11950\n",
      "epoch 19: w = 1.909, loss = 0.08634\n",
      "epoch 20: w = 1.922, loss = 0.06238\n",
      "epoch 21: w = 1.934, loss = 0.04507\n",
      "epoch 22: w = 1.944, loss = 0.03256\n",
      "epoch 23: w = 1.952, loss = 0.02353\n",
      "epoch 24: w = 1.960, loss = 0.01700\n",
      "epoch 25: w = 1.966, loss = 0.01228\n",
      "epoch 26: w = 1.971, loss = 0.00887\n",
      "epoch 27: w = 1.975, loss = 0.00641\n",
      "epoch 28: w = 1.979, loss = 0.00463\n",
      "epoch 29: w = 1.982, loss = 0.00335\n",
      "epoch 30: w = 1.985, loss = 0.00242\n",
      "epoch 31: w = 1.987, loss = 0.00175\n",
      "epoch 32: w = 1.989, loss = 0.00126\n",
      "epoch 33: w = 1.991, loss = 0.00091\n",
      "epoch 34: w = 1.992, loss = 0.00066\n",
      "epoch 35: w = 1.993, loss = 0.00048\n",
      "epoch 36: w = 1.994, loss = 0.00034\n",
      "epoch 37: w = 1.995, loss = 0.00025\n",
      "epoch 38: w = 1.996, loss = 0.00018\n",
      "epoch 39: w = 1.996, loss = 0.00013\n",
      "epoch 40: w = 1.997, loss = 0.00009\n",
      "epoch 41: w = 1.997, loss = 0.00007\n",
      "epoch 42: w = 1.998, loss = 0.00005\n",
      "epoch 43: w = 1.998, loss = 0.00004\n",
      "epoch 44: w = 1.998, loss = 0.00003\n",
      "epoch 45: w = 1.999, loss = 0.00002\n",
      "epoch 46: w = 1.999, loss = 0.00001\n",
      "epoch 47: w = 1.999, loss = 0.00001\n",
      "epoch 48: w = 1.999, loss = 0.00001\n",
      "epoch 49: w = 1.999, loss = 0.00001\n",
      "epoch 50: w = 1.999, loss = 0.00000\n",
      "epoch 51: w = 1.999, loss = 0.00000\n",
      "epoch 52: w = 2.000, loss = 0.00000\n",
      "epoch 53: w = 2.000, loss = 0.00000\n",
      "epoch 54: w = 2.000, loss = 0.00000\n",
      "epoch 55: w = 2.000, loss = 0.00000\n",
      "epoch 56: w = 2.000, loss = 0.00000\n",
      "epoch 57: w = 2.000, loss = 0.00000\n",
      "epoch 58: w = 2.000, loss = 0.00000\n",
      "epoch 59: w = 2.000, loss = 0.00000\n",
      "epoch 60: w = 2.000, loss = 0.00000\n",
      "epoch 61: w = 2.000, loss = 0.00000\n",
      "epoch 62: w = 2.000, loss = 0.00000\n",
      "epoch 63: w = 2.000, loss = 0.00000\n",
      "epoch 64: w = 2.000, loss = 0.00000\n",
      "epoch 65: w = 2.000, loss = 0.00000\n",
      "epoch 66: w = 2.000, loss = 0.00000\n",
      "epoch 67: w = 2.000, loss = 0.00000\n",
      "epoch 68: w = 2.000, loss = 0.00000\n",
      "epoch 69: w = 2.000, loss = 0.00000\n",
      "epoch 70: w = 2.000, loss = 0.00000\n",
      "epoch 71: w = 2.000, loss = 0.00000\n",
      "epoch 72: w = 2.000, loss = 0.00000\n",
      "epoch 73: w = 2.000, loss = 0.00000\n",
      "epoch 74: w = 2.000, loss = 0.00000\n",
      "epoch 75: w = 2.000, loss = 0.00000\n",
      "epoch 76: w = 2.000, loss = 0.00000\n",
      "epoch 77: w = 2.000, loss = 0.00000\n",
      "epoch 78: w = 2.000, loss = 0.00000\n",
      "epoch 79: w = 2.000, loss = 0.00000\n",
      "epoch 80: w = 2.000, loss = 0.00000\n",
      "epoch 81: w = 2.000, loss = 0.00000\n",
      "epoch 82: w = 2.000, loss = 0.00000\n",
      "epoch 83: w = 2.000, loss = 0.00000\n",
      "epoch 84: w = 2.000, loss = 0.00000\n",
      "epoch 85: w = 2.000, loss = 0.00000\n",
      "epoch 86: w = 2.000, loss = 0.00000\n",
      "epoch 87: w = 2.000, loss = 0.00000\n",
      "epoch 88: w = 2.000, loss = 0.00000\n",
      "epoch 89: w = 2.000, loss = 0.00000\n",
      "epoch 90: w = 2.000, loss = 0.00000\n",
      "epoch 91: w = 2.000, loss = 0.00000\n",
      "epoch 92: w = 2.000, loss = 0.00000\n",
      "epoch 93: w = 2.000, loss = 0.00000\n",
      "epoch 94: w = 2.000, loss = 0.00000\n",
      "epoch 95: w = 2.000, loss = 0.00000\n",
      "epoch 96: w = 2.000, loss = 0.00000\n",
      "epoch 97: w = 2.000, loss = 0.00000\n",
      "epoch 98: w = 2.000, loss = 0.00000\n",
      "epoch 99: w = 2.000, loss = 0.00000\n",
      "epoch 100: w = 2.000, loss = 0.00000\n",
      "Prediction after training: f(5) = 10.000\n"
     ]
    }
   ],
   "source": [
    "print(f'Prediction before training: f(5) = {forward(5):.3f}')\n",
    "\n",
    "for epoch in range(n_iter):\n",
    "    # forward pass\n",
    "    Y_pred = forward(X)\n",
    "    l = loss(Y,Y_pred)\n",
    "    # backward pass\n",
    "    l.backward()\n",
    "    # update weights\n",
    "    with torch.no_grad():\n",
    "        w -= learning_rate*w.grad\n",
    "    # zero gradient\n",
    "    w.grad.zero_()\n",
    "    \n",
    "    if epoch%1 == 0:\n",
    "        print(f'epoch {epoch+1}: w = {w:.3f}, loss = {l:.5f}')\n",
    "print(f'Prediction after training: f(5) = {forward(5):.3f}')"
   ]
  }
 ],
 "metadata": {
  "kernelspec": {
   "display_name": "py39_torch",
   "language": "python",
   "name": "py39_torch"
  },
  "language_info": {
   "codemirror_mode": {
    "name": "ipython",
    "version": 3
   },
   "file_extension": ".py",
   "mimetype": "text/x-python",
   "name": "python",
   "nbconvert_exporter": "python",
   "pygments_lexer": "ipython3",
   "version": "3.9.2"
  }
 },
 "nbformat": 4,
 "nbformat_minor": 5
}
